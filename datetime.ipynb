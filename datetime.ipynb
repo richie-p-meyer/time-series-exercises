{
 "cells": [
  {
   "cell_type": "code",
   "execution_count": 19,
   "id": "5993dc9e",
   "metadata": {},
   "outputs": [],
   "source": [
    "from vega_datasets import data\n",
    "\n",
    "import pandas as pd\n",
    "import matplotlib.pyplot as plt"
   ]
  },
  {
   "cell_type": "code",
   "execution_count": 3,
   "id": "945c6dab",
   "metadata": {},
   "outputs": [],
   "source": [
    "df = data.sf_temps()"
   ]
  },
  {
   "cell_type": "code",
   "execution_count": 5,
   "id": "90e928a7",
   "metadata": {},
   "outputs": [
    {
     "data": {
      "text/html": [
       "<div>\n",
       "<style scoped>\n",
       "    .dataframe tbody tr th:only-of-type {\n",
       "        vertical-align: middle;\n",
       "    }\n",
       "\n",
       "    .dataframe tbody tr th {\n",
       "        vertical-align: top;\n",
       "    }\n",
       "\n",
       "    .dataframe thead th {\n",
       "        text-align: right;\n",
       "    }\n",
       "</style>\n",
       "<table border=\"1\" class=\"dataframe\">\n",
       "  <thead>\n",
       "    <tr style=\"text-align: right;\">\n",
       "      <th></th>\n",
       "      <th>temp</th>\n",
       "      <th>date</th>\n",
       "    </tr>\n",
       "  </thead>\n",
       "  <tbody>\n",
       "    <tr>\n",
       "      <th>8754</th>\n",
       "      <td>50.4</td>\n",
       "      <td>2010-12-31 19:00:00</td>\n",
       "    </tr>\n",
       "    <tr>\n",
       "      <th>8755</th>\n",
       "      <td>49.9</td>\n",
       "      <td>2010-12-31 20:00:00</td>\n",
       "    </tr>\n",
       "    <tr>\n",
       "      <th>8756</th>\n",
       "      <td>49.4</td>\n",
       "      <td>2010-12-31 21:00:00</td>\n",
       "    </tr>\n",
       "    <tr>\n",
       "      <th>8757</th>\n",
       "      <td>48.8</td>\n",
       "      <td>2010-12-31 22:00:00</td>\n",
       "    </tr>\n",
       "    <tr>\n",
       "      <th>8758</th>\n",
       "      <td>48.3</td>\n",
       "      <td>2010-12-31 23:00:00</td>\n",
       "    </tr>\n",
       "  </tbody>\n",
       "</table>\n",
       "</div>"
      ],
      "text/plain": [
       "      temp                date\n",
       "8754  50.4 2010-12-31 19:00:00\n",
       "8755  49.9 2010-12-31 20:00:00\n",
       "8756  49.4 2010-12-31 21:00:00\n",
       "8757  48.8 2010-12-31 22:00:00\n",
       "8758  48.3 2010-12-31 23:00:00"
      ]
     },
     "execution_count": 5,
     "metadata": {},
     "output_type": "execute_result"
    }
   ],
   "source": [
    "df.tail()"
   ]
  },
  {
   "cell_type": "code",
   "execution_count": 9,
   "id": "bc991b18",
   "metadata": {},
   "outputs": [
    {
     "data": {
      "text/plain": [
       "pandas._libs.tslibs.timestamps.Timestamp"
      ]
     },
     "execution_count": 9,
     "metadata": {},
     "output_type": "execute_result"
    }
   ],
   "source": [
    "df.date = pd.to_datetime(df.date , format ='%Y-%m-%d %H:%M:%S') # Change date into datetime\n",
    "df = df.set_index('date') # Set index as the date\n",
    "df = df.sort_index() # Sort index from earlier to later"
   ]
  },
  {
   "cell_type": "code",
   "execution_count": 17,
   "id": "c6d9d986",
   "metadata": {},
   "outputs": [],
   "source": [
    "df = df.resample('D').mean() #Resample by day"
   ]
  },
  {
   "cell_type": "code",
   "execution_count": 18,
   "id": "839171a0",
   "metadata": {},
   "outputs": [
    {
     "data": {
      "text/plain": [
       "<AxesSubplot:xlabel='date'>"
      ]
     },
     "execution_count": 18,
     "metadata": {},
     "output_type": "execute_result"
    },
    {
     "data": {
      "image/png": "[encoded data removed]",
      "text/plain": [
       "<Figure size 432x288 with 1 Axes>"
      ]
     },
     "metadata": {
      "needs_background": "light"
     },
     "output_type": "display_data"
    }
   ],
   "source": [
    "df.temp.plot() #Plot our temperature by date"
   ]
  },
  {
   "cell_type": "code",
   "execution_count": 25,
   "id": "cfc8a327",
   "metadata": {},
   "outputs": [
    {
     "data": {
      "text/plain": [
       "([<matplotlib.axis.XTick at 0x7fd082054670>,\n",
       "  <matplotlib.axis.XTick at 0x7fd082054640>],\n",
       " [Text(14970.0, 0, 'Minimum Temp'), Text(14852.0, 0, 'Maximum Temp')])"
      ]
     },
     "execution_count": 25,
     "metadata": {},
     "output_type": "execute_result"
    },
    {
     "data": {
      "image/png": "[encoded data removed]",
      "text/plain": [
       "<Figure size 432x288 with 1 Axes>"
      ]
     },
     "metadata": {
      "needs_background": "light"
     },
     "output_type": "display_data"
    }
   ],
   "source": [
    "plt.bar([df.temp.idxmin(),df.temp.idxmax()],[df.temp.min(),df.temp.max()])\n",
    "plt.xticks(ticks=[df.temp.idxmin(),df.temp.idxmax()],labels=['Minimum Temp','Maximum Temp'])"
   ]
  },
  {
   "cell_type": "code",
   "execution_count": 30,
   "id": "76f5315e",
   "metadata": {},
   "outputs": [
    {
     "ename": "SyntaxError",
     "evalue": "invalid syntax (3020911079.py, line 1)",
     "output_type": "error",
     "traceback": [
      "\u001b[0;36m  Cell \u001b[0;32mIn[30], line 1\u001b[0;36m\u001b[0m\n\u001b[0;31m    df.temp.resample('M').mean().idxmin().strftime(%m), df.temp.resample('M').mean().min()\u001b[0m\n\u001b[0m                                                   ^\u001b[0m\n\u001b[0;31mSyntaxError\u001b[0m\u001b[0;31m:\u001b[0m invalid syntax\n"
     ]
    }
   ],
   "source": [
    "df.temp.resample('M').mean().idxmin().strftime(%m), df.temp.resample('M').mean().min()"
   ]
  },
  {
   "cell_type": "code",
   "execution_count": 35,
   "id": "b52c66dd",
   "metadata": {},
   "outputs": [
    {
     "data": {
      "text/plain": [
       "1"
      ]
     },
     "execution_count": 35,
     "metadata": {},
     "output_type": "execute_result"
    }
   ],
   "source": [
    "df.temp.resample('M').mean().idxmin().month #Jan coldest month"
   ]
  },
  {
   "cell_type": "code",
   "execution_count": 36,
   "id": "5e5e05da",
   "metadata": {},
   "outputs": [
    {
     "data": {
      "text/plain": [
       "9"
      ]
     },
     "execution_count": 36,
     "metadata": {},
     "output_type": "execute_result"
    }
   ],
   "source": [
    "df.temp.resample('M').mean().idxmax().month #Sep hottest month"
   ]
  },
  {
   "cell_type": "code",
   "execution_count": 51,
   "id": "2b1ad394",
   "metadata": {},
   "outputs": [],
   "source": [
    "df_month = df.temp.resample('M').agg(['min', 'max'])\n"
   ]
  },
  {
   "cell_type": "code",
   "execution_count": 62,
   "id": "c18b882c",
   "metadata": {},
   "outputs": [],
   "source": [
    "df_month['difference'] = df_month['max']-df_month['min']"
   ]
  },
  {
   "cell_type": "code",
   "execution_count": 65,
   "id": "76e4e691",
   "metadata": {},
   "outputs": [
    {
     "data": {
      "text/plain": [
       "date\n",
       "2010-11-30    5.620833\n",
       "2010-10-31    3.654167\n",
       "2010-12-31    3.400000\n",
       "2010-04-30    2.387500\n",
       "2010-06-30    2.266667\n",
       "2010-05-31    2.087500\n",
       "2010-01-31    1.866667\n",
       "2010-02-28    1.837500\n",
       "2010-03-31    1.504167\n",
       "2010-08-31    1.191667\n",
       "2010-09-30    1.166667\n",
       "2010-07-31    0.500000\n",
       "Name: difference, dtype: float64"
      ]
     },
     "execution_count": 65,
     "metadata": {},
     "output_type": "execute_result"
    }
   ],
   "source": [
    "df_month.difference.sort_values(ascending=False) #November has the largest difference between min and max temp"
   ]
  },
  {
   "cell_type": "code",
   "execution_count": 66,
   "id": "65057fe5",
   "metadata": {},
   "outputs": [
    {
     "data": {
      "text/html": [
       "<div>\n",
       "<style scoped>\n",
       "    .dataframe tbody tr th:only-of-type {\n",
       "        vertical-align: middle;\n",
       "    }\n",
       "\n",
       "    .dataframe tbody tr th {\n",
       "        vertical-align: top;\n",
       "    }\n",
       "\n",
       "    .dataframe thead th {\n",
       "        text-align: right;\n",
       "    }\n",
       "</style>\n",
       "<table border=\"1\" class=\"dataframe\">\n",
       "  <thead>\n",
       "    <tr style=\"text-align: right;\">\n",
       "      <th></th>\n",
       "      <th>date</th>\n",
       "      <th>precipitation</th>\n",
       "      <th>temp_max</th>\n",
       "      <th>temp_min</th>\n",
       "      <th>wind</th>\n",
       "      <th>weather</th>\n",
       "    </tr>\n",
       "  </thead>\n",
       "  <tbody>\n",
       "    <tr>\n",
       "      <th>0</th>\n",
       "      <td>2012-01-01</td>\n",
       "      <td>0.0</td>\n",
       "      <td>12.8</td>\n",
       "      <td>5.0</td>\n",
       "      <td>4.7</td>\n",
       "      <td>drizzle</td>\n",
       "    </tr>\n",
       "    <tr>\n",
       "      <th>1</th>\n",
       "      <td>2012-01-02</td>\n",
       "      <td>10.9</td>\n",
       "      <td>10.6</td>\n",
       "      <td>2.8</td>\n",
       "      <td>4.5</td>\n",
       "      <td>rain</td>\n",
       "    </tr>\n",
       "    <tr>\n",
       "      <th>2</th>\n",
       "      <td>2012-01-03</td>\n",
       "      <td>0.8</td>\n",
       "      <td>11.7</td>\n",
       "      <td>7.2</td>\n",
       "      <td>2.3</td>\n",
       "      <td>rain</td>\n",
       "    </tr>\n",
       "    <tr>\n",
       "      <th>3</th>\n",
       "      <td>2012-01-04</td>\n",
       "      <td>20.3</td>\n",
       "      <td>12.2</td>\n",
       "      <td>5.6</td>\n",
       "      <td>4.7</td>\n",
       "      <td>rain</td>\n",
       "    </tr>\n",
       "    <tr>\n",
       "      <th>4</th>\n",
       "      <td>2012-01-05</td>\n",
       "      <td>1.3</td>\n",
       "      <td>8.9</td>\n",
       "      <td>2.8</td>\n",
       "      <td>6.1</td>\n",
       "      <td>rain</td>\n",
       "    </tr>\n",
       "  </tbody>\n",
       "</table>\n",
       "</div>"
      ],
      "text/plain": [
       "        date  precipitation  temp_max  temp_min  wind  weather\n",
       "0 2012-01-01            0.0      12.8       5.0   4.7  drizzle\n",
       "1 2012-01-02           10.9      10.6       2.8   4.5     rain\n",
       "2 2012-01-03            0.8      11.7       7.2   2.3     rain\n",
       "3 2012-01-04           20.3      12.2       5.6   4.7     rain\n",
       "4 2012-01-05            1.3       8.9       2.8   6.1     rain"
      ]
     },
     "execution_count": 66,
     "metadata": {},
     "output_type": "execute_result"
    }
   ],
   "source": [
    "df = data.seattle_weather()\n",
    "df.head() #date already as datetime object"
   ]
  },
  {
   "cell_type": "code",
   "execution_count": 71,
   "id": "32769b05",
   "metadata": {},
   "outputs": [],
   "source": [
    "df = df.set_index('date')"
   ]
  },
  {
   "cell_type": "code",
   "execution_count": 74,
   "id": "7eacb8d8",
   "metadata": {},
   "outputs": [
    {
     "data": {
      "text/plain": [
       "date\n",
       "2015-12-31    284.5\n",
       "2014-03-31    240.0\n",
       "2015-11-30    212.6\n",
       "2012-11-30    210.5\n",
       "2012-03-31    183.0\n",
       "Name: precipitation, dtype: float64"
      ]
     },
     "execution_count": 74,
     "metadata": {},
     "output_type": "execute_result"
    }
   ],
   "source": [
    "df.precipitation.resample('M').sum().sort_values(ascending=False).head() #Dec 2015 received highest precipitation"
   ]
  },
  {
   "cell_type": "code",
   "execution_count": 80,
   "id": "bec14f50",
   "metadata": {},
   "outputs": [
    {
     "data": {
      "text/plain": [
       "<AxesSubplot:xlabel='date'>"
      ]
     },
     "execution_count": 80,
     "metadata": {},
     "output_type": "execute_result"
    },
    {
     "data": {
      "image/png": "[encoded data removed]",
      "text/plain": [
       "<Figure size 1152x288 with 1 Axes>"
      ]
     },
     "metadata": {
      "needs_background": "light"
     },
     "output_type": "display_data"
    }
   ],
   "source": [
    "plt.figure(figsize=(16,4))\n",
    "df.precipitation.resample('M').sum().plot() #  Plotting sum of precipitation per month\n"
   ]
  },
  {
   "cell_type": "code",
   "execution_count": 85,
   "id": "f56958c9",
   "metadata": {},
   "outputs": [
    {
     "data": {
      "text/plain": [
       "<AxesSubplot:xlabel='date'>"
      ]
     },
     "execution_count": 85,
     "metadata": {},
     "output_type": "execute_result"
    },
    {
     "data": {
      "image/png": "[encoded data removed]",
      "text/plain": [
       "<Figure size 1152x288 with 1 Axes>"
      ]
     },
     "metadata": {
      "needs_background": "light"
     },
     "output_type": "display_data"
    }
   ],
   "source": [
    "plt.figure(figsize=(16,4))\n",
    "df.wind.resample('2M').mean().plot() # Plotting average wind per 2 months"
   ]
  },
  {
   "cell_type": "code",
   "execution_count": 87,
   "id": "020123df",
   "metadata": {},
   "outputs": [
    {
     "data": {
      "text/plain": [
       "date\n",
       "2015-12-31    134.6\n",
       "2012-03-31    131.7\n",
       "2014-02-28    126.8\n",
       "2012-01-31    120.9\n",
       "2014-11-30    119.5\n",
       "Name: wind, dtype: float64"
      ]
     },
     "execution_count": 87,
     "metadata": {},
     "output_type": "execute_result"
    }
   ],
   "source": [
    "df.wind.resample('M').sum().sort_values(ascending=False).head() # Dec 2015 is the windiest month and received\n",
    "                                                                # highest precipitation"
   ]
  },
  {
   "cell_type": "code",
   "execution_count": 97,
   "id": "c7693b33",
   "metadata": {},
   "outputs": [
    {
     "data": {
      "text/plain": [
       "date\n",
       "2013-08-31    27\n",
       "2013-07-31    27\n",
       "2015-06-30    26\n",
       "2014-07-31    25\n",
       "2013-06-30    25\n",
       "Name: weather, dtype: int64"
      ]
     },
     "execution_count": 97,
     "metadata": {},
     "output_type": "execute_result"
    }
   ],
   "source": [
    "df_sun = df[df.weather=='sun']\n",
    "df_sun.weather.resample('M').count().sort_values(ascending=False).head() # July and Aug 2013 both had 27 sunny days"
   ]
  },
  {
   "cell_type": "code",
   "execution_count": 99,
   "id": "35b039da",
   "metadata": {},
   "outputs": [
    {
     "data": {
      "text/plain": [
       "date\n",
       "2012-11-30    27\n",
       "2013-02-28    26\n",
       "2012-12-31    25\n",
       "2013-01-31    24\n",
       "2012-04-30    21\n",
       "Name: weather, dtype: int64"
      ]
     },
     "execution_count": 99,
     "metadata": {},
     "output_type": "execute_result"
    }
   ],
   "source": [
    "df_rain = df[(df.weather=='rain') | (df.weather=='drizzle')]\n",
    "df_rain.weather.resample('M').count().sort_values(ascending=False).head() # Nov 2012 had 27 days of rain or drizzle"
   ]
  },
  {
   "cell_type": "code",
   "execution_count": 101,
   "id": "55e475df",
   "metadata": {},
   "outputs": [
    {
     "data": {
      "text/plain": [
       "date\n",
       "2012-12-31    27\n",
       "2015-12-31    25\n",
       "2012-01-31    22\n",
       "2012-03-31    22\n",
       "2015-11-30    20\n",
       "Name: precipitation, dtype: int64"
      ]
     },
     "execution_count": 101,
     "metadata": {},
     "output_type": "execute_result"
    }
   ],
   "source": [
    "df[df.precipitation>0]['precipitation'].resample('M').count().sort_values(ascending=False).head()\n",
    "# Dec 2012 had 27 days of precipitation"
   ]
  },
  {
   "cell_type": "code",
   "execution_count": 145,
   "id": "9798c1a4",
   "metadata": {},
   "outputs": [
    {
     "data": {
      "text/html": [
       "<div>\n",
       "<style scoped>\n",
       "    .dataframe tbody tr th:only-of-type {\n",
       "        vertical-align: middle;\n",
       "    }\n",
       "\n",
       "    .dataframe tbody tr th {\n",
       "        vertical-align: top;\n",
       "    }\n",
       "\n",
       "    .dataframe thead th {\n",
       "        text-align: right;\n",
       "    }\n",
       "</style>\n",
       "<table border=\"1\" class=\"dataframe\">\n",
       "  <thead>\n",
       "    <tr style=\"text-align: right;\">\n",
       "      <th></th>\n",
       "      <th>date</th>\n",
       "      <th>delay</th>\n",
       "      <th>distance</th>\n",
       "      <th>origin</th>\n",
       "      <th>destination</th>\n",
       "    </tr>\n",
       "  </thead>\n",
       "  <tbody>\n",
       "    <tr>\n",
       "      <th>0</th>\n",
       "      <td>2001-01-13 14:56:00</td>\n",
       "      <td>32</td>\n",
       "      <td>417</td>\n",
       "      <td>SAN</td>\n",
       "      <td>SJC</td>\n",
       "    </tr>\n",
       "    <tr>\n",
       "      <th>1</th>\n",
       "      <td>2001-01-31 16:40:00</td>\n",
       "      <td>-5</td>\n",
       "      <td>1093</td>\n",
       "      <td>FLL</td>\n",
       "      <td>ISP</td>\n",
       "    </tr>\n",
       "    <tr>\n",
       "      <th>2</th>\n",
       "      <td>2001-02-11 18:39:00</td>\n",
       "      <td>3</td>\n",
       "      <td>293</td>\n",
       "      <td>LBB</td>\n",
       "      <td>DAL</td>\n",
       "    </tr>\n",
       "    <tr>\n",
       "      <th>3</th>\n",
       "      <td>2001-01-10 21:00:00</td>\n",
       "      <td>-15</td>\n",
       "      <td>550</td>\n",
       "      <td>MSY</td>\n",
       "      <td>MCO</td>\n",
       "    </tr>\n",
       "    <tr>\n",
       "      <th>4</th>\n",
       "      <td>2001-03-30 21:45:00</td>\n",
       "      <td>-2</td>\n",
       "      <td>229</td>\n",
       "      <td>STL</td>\n",
       "      <td>IND</td>\n",
       "    </tr>\n",
       "  </tbody>\n",
       "</table>\n",
       "</div>"
      ],
      "text/plain": [
       "                 date  delay  distance origin destination\n",
       "0 2001-01-13 14:56:00     32       417    SAN         SJC\n",
       "1 2001-01-31 16:40:00     -5      1093    FLL         ISP\n",
       "2 2001-02-11 18:39:00      3       293    LBB         DAL\n",
       "3 2001-01-10 21:00:00    -15       550    MSY         MCO\n",
       "4 2001-03-30 21:45:00     -2       229    STL         IND"
      ]
     },
     "execution_count": 145,
     "metadata": {},
     "output_type": "execute_result"
    }
   ],
   "source": [
    "df = data.flights_20k()\n",
    "df.head()"
   ]
  },
  {
   "cell_type": "code",
   "execution_count": 146,
   "id": "b85bae92",
   "metadata": {},
   "outputs": [],
   "source": [
    "df = df.set_index('date')"
   ]
  },
  {
   "cell_type": "code",
   "execution_count": 147,
   "id": "653aa424",
   "metadata": {},
   "outputs": [],
   "source": [
    "df.delay = df.delay.fillna(0)"
   ]
  },
  {
   "cell_type": "code",
   "execution_count": 125,
   "id": "0c934b6e",
   "metadata": {},
   "outputs": [],
   "source": [
    "df['hour'] = df.index.strftime('%H')"
   ]
  },
  {
   "cell_type": "code",
   "execution_count": 131,
   "id": "43b519f0",
   "metadata": {},
   "outputs": [
    {
     "data": {
      "text/plain": [
       "hour\n",
       "03    302.500000\n",
       "01    170.000000\n",
       "00    127.916667\n",
       "23     64.153846\n",
       "22     31.200542\n",
       "Name: delay, dtype: float64"
      ]
     },
     "execution_count": 131,
     "metadata": {},
     "output_type": "execute_result"
    }
   ],
   "source": [
    "df.groupby('hour')['delay'].mean().sort_values(ascending=False).head() # Flights at 3 have the highest mean delay"
   ]
  },
  {
   "cell_type": "code",
   "execution_count": 136,
   "id": "47dcc34a",
   "metadata": {},
   "outputs": [],
   "source": [
    "df['day_of_week'] = df.index.strftime('%a')"
   ]
  },
  {
   "cell_type": "code",
   "execution_count": 140,
   "id": "8bf23a6a",
   "metadata": {},
   "outputs": [
    {
     "data": {
      "text/plain": [
       "day_of_week\n",
       "Fri    15.594452\n",
       "Thu    10.245766\n",
       "Wed     8.161416\n",
       "Sun     7.255164\n",
       "Tue     6.198981\n",
       "Name: delay, dtype: float64"
      ]
     },
     "execution_count": 140,
     "metadata": {},
     "output_type": "execute_result"
    }
   ],
   "source": [
    "df.groupby('day_of_week')['delay'].mean().sort_values(ascending=False).head() #Fridays of the most delay"
   ]
  },
  {
   "cell_type": "code",
   "execution_count": 149,
   "id": "06cf62d4",
   "metadata": {},
   "outputs": [
    {
     "data": {
      "text/plain": [
       "month\n",
       "February    9.398338\n",
       "January     8.242630\n",
       "March       6.804310\n",
       "Name: delay, dtype: float64"
      ]
     },
     "execution_count": 149,
     "metadata": {},
     "output_type": "execute_result"
    }
   ],
   "source": [
    "df['month'] = df.index.strftime('%B')\n",
    "df.groupby('month')['delay'].mean().sort_values(ascending=False) #February of the most delays"
   ]
  },
  {
   "cell_type": "code",
   "execution_count": null,
   "id": "d26c4eaa",
   "metadata": {},
   "outputs": [],
   "source": []
  }
 ],
 "metadata": {
  "kernelspec": {
   "display_name": "Python 3 (ipykernel)",
   "language": "python",
   "name": "python3"
  },
  "language_info": {
   "codemirror_mode": {
    "name": "ipython",
    "version": 3
   },
   "file_extension": ".py",
   "mimetype": "text/x-python",
   "name": "python",
   "nbconvert_exporter": "python",
   "pygments_lexer": "ipython3",
   "version": "3.9.7"
  }
 },
 "nbformat": 4,
 "nbformat_minor": 5
}
